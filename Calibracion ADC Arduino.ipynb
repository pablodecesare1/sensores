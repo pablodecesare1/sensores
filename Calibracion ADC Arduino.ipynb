{
 "cells": [
  {
   "cell_type": "code",
   "execution_count": 1,
   "metadata": {},
   "outputs": [],
   "source": [
    "# Traemos la libreria VISA\n",
    "import pyvisa as visa\n",
    "# Traemos matplotlib para poder graficar\n",
    "import matplotlib.pyplot as plt\n",
    "# Agreamos el path de las librerias\n",
    "import sys\n",
    "sys.path.insert(0, '../instrumentacion_virtual/Libreria')\n",
    "import platform\n",
    "# Traemos el generador\n",
    "from generadores_arbitrarios import Agilent33512A\n",
    "# Siempre util numpy y scipy...\n",
    "import numpy as np\n",
    "from scipy import signal\n",
    "\n",
    "import pandas as pd\n",
    "import time\n",
    "\n",
    "import serial\n"
   ]
  },
  {
   "cell_type": "markdown",
   "metadata": {},
   "source": [
    "# Definiciones y Path"
   ]
  },
  {
   "cell_type": "code",
   "execution_count": 2,
   "metadata": {},
   "outputs": [],
   "source": [
    "# Device a utilizar de la lista\n",
    "USE_DEVICE = 1\n",
    "\n",
    "# Puerto del Arduino\n",
    "PUERTO_ARDUINO = '/dev/ttyUSB1'\n",
    "\n",
    "# Limites de tensiones \n",
    "V_INI = 0.0\n",
    "V_FIN = 3.3\n",
    "# Pasos a medir\n",
    "N_STEP = 32\n",
    "# MEdiciones por paso (para tio A)\n",
    "MED_POR_PASO = 10\n",
    "\n"
   ]
  },
  {
   "cell_type": "markdown",
   "metadata": {},
   "source": [
    "### Lectura del paquete"
   ]
  },
  {
   "cell_type": "code",
   "execution_count": 3,
   "metadata": {},
   "outputs": [],
   "source": [
    "def read_pckg(serial_obj):\n",
    "    \n",
    "    serial_obj.write(b'a')\n",
    "    \n",
    "    data = serial_obj.read(1)\n",
    "    while(data != b'<'):\n",
    "        data = serial_obj.read(1)\n",
    "            \n",
    "    # Leo datos\n",
    "    datos_in = list()\n",
    "    while(True):\n",
    "        data = serial_obj.read(1)\n",
    "        if data != b'>':\n",
    "            datos_in.append(data)\n",
    "        else:\n",
    "            break\n",
    "        \n",
    "    # Paso a un string\n",
    "    string_dato = b''.join(datos_in).decode(\"utf-8\")\n",
    "    # Lo separo\n",
    "    dato_splitted = string_dato.split(';')\n",
    "    # Lo paso a int\n",
    "    dato_a = int(dato_splitted[0])\n",
    "\n",
    "    return dato_a\n",
    "    "
   ]
  },
  {
   "cell_type": "markdown",
   "metadata": {},
   "source": [
    "# Inicializacion"
   ]
  },
  {
   "cell_type": "markdown",
   "metadata": {},
   "source": [
    "### Inicializo Instrumento"
   ]
  },
  {
   "cell_type": "code",
   "execution_count": 4,
   "metadata": {},
   "outputs": [
    {
     "name": "stdout",
     "output_type": "stream",
     "text": [
      "Linux-4.15.0-55-generic-x86_64-with-Ubuntu-18.04-bionic\n",
      "Esta conectado un Agilent Technologies,33522A,MY50002138,1.12-1.19-1.01-50-00\n",
      "\n"
     ]
    }
   ],
   "source": [
    "\n",
    "# Abrimos el instrumento con el backend correcto\n",
    "platforma = platform.platform()\n",
    "print(platforma)\n",
    "if 'pyvisa' in sys.modules:\n",
    "\trm=visa.ResourceManager('@py')\n",
    "elif 'visa' in sys.modules:\n",
    "\trm=visa.ResourceManager('@ni')\n",
    "else:\n",
    "\terror()\n",
    "\n",
    "# Instancio el instrumento\n",
    "instrument_handler=rm.open_resource(rm.list_resources()[USE_DEVICE])\n",
    "MiGenArb = Agilent33512A(instrument_handler)\n",
    "\n",
    "# Informamos el modelo del generador conectado\n",
    "print(\"Esta conectado un %s\"%MiGenArb.INSTR_ID)"
   ]
  },
  {
   "cell_type": "markdown",
   "metadata": {},
   "source": [
    "### Inicializo Puerto serie (Arduino)"
   ]
  },
  {
   "cell_type": "code",
   "execution_count": 5,
   "metadata": {},
   "outputs": [],
   "source": [
    "ser = serial.Serial(PUERTO_ARDUINO, timeout=1, baudrate=9600)\n",
    "# espero\n",
    "time.sleep(1)"
   ]
  },
  {
   "cell_type": "markdown",
   "metadata": {},
   "source": [
    "# Medición"
   ]
  },
  {
   "cell_type": "code",
   "execution_count": 6,
   "metadata": {},
   "outputs": [],
   "source": [
    "# Campos a medir\n",
    "campos = ['V_Med_mean', 'V_Med_std']\n",
    "# Lista de valores de tensión\n",
    "val_tension = np.linspace(V_INI,V_FIN,N_STEP)"
   ]
  },
  {
   "cell_type": "code",
   "execution_count": null,
   "metadata": {},
   "outputs": [
    {
     "name": "stdout",
     "output_type": "stream",
     "text": [
      "V Gen = 0.00000, V Med mean = 0.00000, V Med avg = 0.00000\n",
      "V Gen = 0.10645, V Med mean = 21.20000, V Med avg = 0.40000\n",
      "V Gen = 0.21290, V Med mean = 44.90000, V Med avg = 0.30000\n",
      "V Gen = 0.31935, V Med mean = 68.60000, V Med avg = 0.48990\n",
      "V Gen = 0.42581, V Med mean = 92.00000, V Med avg = 0.00000\n",
      "V Gen = 0.53226, V Med mean = 115.80000, V Med avg = 0.40000\n",
      "V Gen = 0.63871, V Med mean = 139.00000, V Med avg = 0.00000\n",
      "V Gen = 0.74516, V Med mean = 162.50000, V Med avg = 0.50000\n",
      "V Gen = 0.85161, V Med mean = 186.00000, V Med avg = 0.00000\n",
      "V Gen = 0.95806, V Med mean = 209.60000, V Med avg = 0.48990\n",
      "V Gen = 1.06452, V Med mean = 233.40000, V Med avg = 0.48990\n",
      "V Gen = 1.17097, V Med mean = 256.80000, V Med avg = 0.40000\n",
      "V Gen = 1.27742, V Med mean = 280.20000, V Med avg = 0.40000\n",
      "V Gen = 1.38387, V Med mean = 303.60000, V Med avg = 0.48990\n",
      "V Gen = 1.49032, V Med mean = 327.00000, V Med avg = 0.00000\n",
      "V Gen = 1.59677, V Med mean = 351.00000, V Med avg = 0.00000\n",
      "V Gen = 1.70323, V Med mean = 374.30000, V Med avg = 0.45826\n",
      "V Gen = 1.80968, V Med mean = 398.00000, V Med avg = 0.00000\n",
      "V Gen = 1.91613, V Med mean = 421.30000, V Med avg = 0.64031\n"
     ]
    }
   ],
   "source": [
    "# Reservo memoria\n",
    "datos_medidos = np.zeros((len(val_tension), len(campos)))\n",
    "\n",
    "# Mido\n",
    "for ids_v, v_act in enumerate(val_tension):\n",
    "    \n",
    "    # Seteo generador\n",
    "    MiGenArb.continua(v_act)\n",
    "    # espero\n",
    "    time.sleep(0.5)\n",
    "    \n",
    "    # Mido N veces el punto\n",
    "    dato_aux = np.zeros(MED_POR_PASO)\n",
    "    for i in range(MED_POR_PASO):\n",
    "        # Leemos\n",
    "        dato_1 = read_pckg(ser)\n",
    "        dato_aux[i] = float(dato_1)\n",
    "        \n",
    "        # esperamos\n",
    "        time.sleep(0.5)\n",
    "        \n",
    "    # Saco la media y el desvio y los guardo\n",
    "    datos_medidos[ids_v,0] = np.mean(dato_aux)\n",
    "    datos_medidos[ids_v,1] = np.std(dato_aux)\n",
    "    \n",
    "    print(\"V Gen = %0.5f, V Med mean = %0.5f, V Med avg = %0.5f\"%(v_act,\n",
    "                                                                  datos_medidos[ids_v,0], \n",
    "                                                                  datos_medidos[ids_v,1]))\n",
    "        \n",
    "    "
   ]
  },
  {
   "cell_type": "markdown",
   "metadata": {},
   "source": [
    "### Armo un Dataframe"
   ]
  },
  {
   "cell_type": "code",
   "execution_count": null,
   "metadata": {},
   "outputs": [],
   "source": [
    "df = pd.DataFrame(datos_medidos, index=val_tension, columns =campos)"
   ]
  },
  {
   "cell_type": "markdown",
   "metadata": {},
   "source": [
    "### Ploteo"
   ]
  },
  {
   "cell_type": "code",
   "execution_count": null,
   "metadata": {},
   "outputs": [],
   "source": [
    "df.plot(y='V_Med_mean', use_index=True)\n",
    "plt.show()"
   ]
  },
  {
   "cell_type": "markdown",
   "metadata": {},
   "source": [
    "# Cierro Todo"
   ]
  },
  {
   "cell_type": "code",
   "execution_count": null,
   "metadata": {},
   "outputs": [],
   "source": [
    "MiGenArb.close()"
   ]
  },
  {
   "cell_type": "code",
   "execution_count": null,
   "metadata": {},
   "outputs": [],
   "source": [
    "ser.close()"
   ]
  },
  {
   "cell_type": "markdown",
   "metadata": {},
   "source": [
    "# Codigo Aduino"
   ]
  },
  {
   "cell_type": "raw",
   "metadata": {},
   "source": [
    "const int analogInPin = A0;\n",
    "int sensorValue = 0;       \n",
    "char inByte = 0;\n",
    "\n",
    "void setup() {\n",
    "  // initialize serial communications at 9600 bps:\n",
    "  Serial.begin(9600); \n",
    "}\n",
    "\n",
    "void loop() {\n",
    "  \n",
    "  inByte = Serial.read();\n",
    "  \n",
    "  if (inByte == 'a')\n",
    "  {\n",
    "    // Wait before sending the packet\n",
    "    delay(5);\n",
    "    \n",
    "    // read the analog in value:\n",
    "    sensorValue = analogRead(analogInPin);              \n",
    "  \n",
    "    // print the results to the serial monitor:\n",
    "    Serial.print(\"<\" );                       \n",
    "    Serial.print(sensorValue);      \n",
    "    Serial.print(\">\" );   \n",
    "  }\n",
    "      \n",
    "  \n",
    "  // wait 2 milliseconds before the next loop\n",
    "  // for the analog-to-digital converter to settle\n",
    "  // after the last reading:\n",
    "  delay(2);                     \n",
    "}"
   ]
  }
 ],
 "metadata": {
  "kernelspec": {
   "display_name": "Medidas_I",
   "language": "python",
   "name": "medidas_py3"
  },
  "language_info": {
   "codemirror_mode": {
    "name": "ipython",
    "version": 3
   },
   "file_extension": ".py",
   "mimetype": "text/x-python",
   "name": "python",
   "nbconvert_exporter": "python",
   "pygments_lexer": "ipython3",
   "version": "3.6.5"
  }
 },
 "nbformat": 4,
 "nbformat_minor": 2
}
